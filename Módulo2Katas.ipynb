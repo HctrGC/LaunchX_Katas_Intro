{
 "cells": [
  {
   "cell_type": "markdown",
   "metadata": {},
   "source": [
    "Alerta de asteroide"
   ]
  },
  {
   "cell_type": "code",
   "execution_count": null,
   "metadata": {},
   "outputs": [],
   "source": [
    "vel_asteroide = 25\n",
    "\n",
    "if vel_asteroide > 25:\n",
    "    print(f\"El asteroide se encuentra viajando a {vel_asteroide} [km/h] ¡Cuidado!\")\n",
    "else:\n",
    "    print('Que hermoso que está el día')"
   ]
  },
  {
   "cell_type": "markdown",
   "metadata": {},
   "source": [
    "Buscando asteroides"
   ]
  },
  {
   "cell_type": "code",
   "execution_count": 6,
   "metadata": {},
   "outputs": [
    {
     "name": "stdout",
     "output_type": "stream",
     "text": [
      "Mirá arriba, puede haber algo sorprendente\n"
     ]
    }
   ],
   "source": [
    "vel_asteroide = 56\n",
    "\n",
    "if vel_asteroide > 20:\n",
    "    print('Mirá arriba, puede haber algo sorprendente')\n",
    "elif vel_asteroide == 20:\n",
    "    print('Mirá arriba, puede haber algo sorprendente')\n",
    "else:\n",
    "    print('¿Alguien quiere un café?')"
   ]
  },
  {
   "cell_type": "markdown",
   "metadata": {},
   "source": [
    "Doble condicional"
   ]
  },
  {
   "cell_type": "code",
   "execution_count": 10,
   "metadata": {},
   "outputs": [
    {
     "name": "stdout",
     "output_type": "stream",
     "text": [
      "Aquí es donde corremos todos ._.\n"
     ]
    }
   ],
   "source": [
    "vel_asteroide = 26\n",
    "d_asteroide = 25\n",
    "\n",
    "if d_asteroide < 25:\n",
    "    print('El asteroide se quemará porque es muy chico')\n",
    "elif d_asteroide < 1000 and vel_asteroide > 25:\n",
    "    print('Aquí es donde corremos todos ._.')\n",
    "else:\n",
    "    print(\"Re' tranquilo el día\")"
   ]
  }
 ],
 "metadata": {
  "interpreter": {
   "hash": "aee8b7b246df8f9039afb4144a1f6fd8d2ca17a180786b69acc140d282b71a49"
  },
  "kernelspec": {
   "display_name": "Python 3.9.5 64-bit",
   "language": "python",
   "name": "python3"
  },
  "language_info": {
   "codemirror_mode": {
    "name": "ipython",
    "version": 3
   },
   "file_extension": ".py",
   "mimetype": "text/x-python",
   "name": "python",
   "nbconvert_exporter": "python",
   "pygments_lexer": "ipython3",
   "version": "3.9.5"
  },
  "orig_nbformat": 4
 },
 "nbformat": 4,
 "nbformat_minor": 2
}
